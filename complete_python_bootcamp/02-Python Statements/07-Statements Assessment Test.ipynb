{
 "cells": [
  {
   "cell_type": "markdown",
   "metadata": {},
   "source": [
    "___\n",
    "\n",
    "<a href='https://www.udemy.com/user/joseportilla/'><img src='../Pierian_Data_Logo.png'/></a>\n",
    "___\n",
    "<center><em>Content Copyright by Pierian Data</em></center>"
   ]
  },
  {
   "cell_type": "markdown",
   "metadata": {
    "collapsed": true
   },
   "source": [
    "# Statements Assessment Test\n",
    "Let's test your knowledge!"
   ]
  },
  {
   "cell_type": "markdown",
   "metadata": {},
   "source": [
    "_____\n",
    "**Use <code>for</code>, .split(), and <code>if</code> to create a Statement that will print out words that start with 's':**"
   ]
  },
  {
   "cell_type": "code",
   "execution_count": null,
   "metadata": {
    "collapsed": true
   },
   "outputs": [],
   "source": [
    "st = 'Print only the words that start with s in this sentence'"
   ]
  },
  {
   "cell_type": "code",
   "execution_count": 7,
   "metadata": {},
   "outputs": [
    {
     "name": "stdout",
     "output_type": "stream",
     "text": [
      "start\n",
      "s\n",
      "sentence\n"
     ]
    }
   ],
   "source": [
    "st = 'Print only the words that start with s in this sentence'\n",
    "for word in st.split():\n",
    "    if word[0] == 's':\n",
    "        print(word)"
   ]
  },
  {
   "cell_type": "markdown",
   "metadata": {},
   "source": [
    "______\n",
    "**Use range() to print all the even numbers from 0 to 10.**"
   ]
  },
  {
   "cell_type": "code",
   "execution_count": 10,
   "metadata": {},
   "outputs": [
    {
     "name": "stdout",
     "output_type": "stream",
     "text": [
      "0\n",
      "2\n",
      "4\n",
      "6\n",
      "8\n",
      "10\n"
     ]
    }
   ],
   "source": [
    "#Code Here\n",
    "for number in range(0,11,2):\n",
    "    print(number)"
   ]
  },
  {
   "cell_type": "markdown",
   "metadata": {},
   "source": [
    "___\n",
    "**Use a List Comprehension to create a list of all numbers between 1 and 50 that are divisible by 3.**"
   ]
  },
  {
   "cell_type": "code",
   "execution_count": 12,
   "metadata": {},
   "outputs": [
    {
     "data": {
      "text/plain": [
       "[3, 6, 9, 12, 15, 18, 21, 24, 27, 30, 33, 36, 39, 42, 45, 48]"
      ]
     },
     "execution_count": 12,
     "metadata": {},
     "output_type": "execute_result"
    }
   ],
   "source": [
    "#Code in this cell\n",
    "[num for num in range(1,51) if num%3 == 0]"
   ]
  },
  {
   "cell_type": "markdown",
   "metadata": {},
   "source": [
    "_____\n",
    "**Go through the string below and if the length of a word is even print \"even!\"**"
   ]
  },
  {
   "cell_type": "code",
   "execution_count": null,
   "metadata": {
    "collapsed": true
   },
   "outputs": [],
   "source": [
    "st = 'Print every word in this sentence that has an even number of letters'"
   ]
  },
  {
   "cell_type": "code",
   "execution_count": 19,
   "metadata": {},
   "outputs": [
    {
     "name": "stdout",
     "output_type": "stream",
     "text": [
      "word even!\n",
      "in even!\n",
      "this even!\n",
      "sentence even!\n",
      "that even!\n",
      "an even!\n",
      "even even!\n",
      "number even!\n",
      "of even!\n"
     ]
    }
   ],
   "source": [
    "#st = 'Print every word in this sentence that has an even number of letters'\n",
    "for word in st.split():\n",
    "    if len(word)%2 ==0:\n",
    "        print(word+ \" even!\")"
   ]
  },
  {
   "cell_type": "markdown",
   "metadata": {},
   "source": [
    "____\n",
    "**Write a program that prints the integers from 1 to 100. But for multiples of three print \"Fizz\" instead of the number, and for the multiples of five print \"Buzz\". For numbers which are multiples of both three and five print \"FizzBuzz\".**"
   ]
  },
  {
   "cell_type": "code",
   "execution_count": 30,
   "metadata": {},
   "outputs": [
    {
     "name": "stdout",
     "output_type": "stream",
     "text": [
      "1\n",
      "2\n",
      "3 Fizz\n",
      "3\n",
      "4\n",
      "5 Buzz\n",
      "6 Fizz\n",
      "6\n",
      "7\n",
      "8\n",
      "9 Fizz\n",
      "9\n",
      "10 Buzz\n",
      "11\n",
      "12 Fizz\n",
      "12\n",
      "13\n",
      "14\n",
      "15 FizzBuzz\n",
      "15 Fizz\n",
      "15 Buzz\n",
      "16\n",
      "17\n",
      "18 Fizz\n",
      "18\n",
      "19\n",
      "20 Buzz\n",
      "21 Fizz\n",
      "21\n",
      "22\n",
      "23\n",
      "24 Fizz\n",
      "24\n",
      "25 Buzz\n",
      "26\n",
      "27 Fizz\n",
      "27\n",
      "28\n",
      "29\n",
      "30 FizzBuzz\n",
      "30 Fizz\n",
      "30 Buzz\n",
      "31\n",
      "32\n",
      "33 Fizz\n",
      "33\n",
      "34\n",
      "35 Buzz\n",
      "36 Fizz\n",
      "36\n",
      "37\n",
      "38\n",
      "39 Fizz\n",
      "39\n",
      "40 Buzz\n",
      "41\n",
      "42 Fizz\n",
      "42\n",
      "43\n",
      "44\n",
      "45 FizzBuzz\n",
      "45 Fizz\n",
      "45 Buzz\n",
      "46\n",
      "47\n",
      "48 Fizz\n",
      "48\n",
      "49\n",
      "50 Buzz\n",
      "51 Fizz\n",
      "51\n",
      "52\n",
      "53\n",
      "54 Fizz\n",
      "54\n",
      "55 Buzz\n",
      "56\n",
      "57 Fizz\n",
      "57\n",
      "58\n",
      "59\n",
      "60 FizzBuzz\n",
      "60 Fizz\n",
      "60 Buzz\n",
      "61\n",
      "62\n",
      "63 Fizz\n",
      "63\n",
      "64\n",
      "65 Buzz\n",
      "66 Fizz\n",
      "66\n",
      "67\n",
      "68\n",
      "69 Fizz\n",
      "69\n",
      "70 Buzz\n",
      "71\n",
      "72 Fizz\n",
      "72\n",
      "73\n",
      "74\n",
      "75 FizzBuzz\n",
      "75 Fizz\n",
      "75 Buzz\n",
      "76\n",
      "77\n",
      "78 Fizz\n",
      "78\n",
      "79\n",
      "80 Buzz\n",
      "81 Fizz\n",
      "81\n",
      "82\n",
      "83\n",
      "84 Fizz\n",
      "84\n",
      "85 Buzz\n",
      "86\n",
      "87 Fizz\n",
      "87\n",
      "88\n",
      "89\n",
      "90 FizzBuzz\n",
      "90 Fizz\n",
      "90 Buzz\n",
      "91\n",
      "92\n",
      "93 Fizz\n",
      "93\n",
      "94\n",
      "95 Buzz\n",
      "96 Fizz\n",
      "96\n",
      "97\n",
      "98\n",
      "99 Fizz\n",
      "99\n",
      "100 Buzz\n"
     ]
    }
   ],
   "source": [
    "#Code in this cell\n",
    "str1=\"Fizz\"\n",
    "str2=\"Buzz\"\n",
    "for num in range(1,101):\n",
    "    if num%3 == 0 and num%5 == 0:\n",
    "        print(str(num) + \" \" + str1 + str2)\n",
    "    if num%3 == 0:\n",
    "        print(str(num) + \" \" + str1)\n",
    "    if num%5==0:\n",
    "        print(str(num) + \" \" + str2)\n",
    "\n",
    "    else:\n",
    "        print(num)"
   ]
  },
  {
   "cell_type": "markdown",
   "metadata": {},
   "source": [
    "____\n",
    "**Use List Comprehension to create a list of the first letters of every word in the string below:**"
   ]
  },
  {
   "cell_type": "code",
   "execution_count": 28,
   "metadata": {},
   "outputs": [],
   "source": [
    "st = 'Create a list of the first letters of every word in this string'"
   ]
  },
  {
   "cell_type": "code",
   "execution_count": 35,
   "metadata": {},
   "outputs": [
    {
     "data": {
      "text/plain": [
       "['C', 'a', 'l', 'o', 't', 'f', 'l', 'o', 'e', 'w', 'i', 't', 's']"
      ]
     },
     "execution_count": 35,
     "metadata": {},
     "output_type": "execute_result"
    }
   ],
   "source": [
    "[letter[0] for letter in st.split()]"
   ]
  },
  {
   "cell_type": "markdown",
   "metadata": {},
   "source": [
    "### Great Job!"
   ]
  }
 ],
 "metadata": {
  "kernelspec": {
   "display_name": "Python 3",
   "language": "python",
   "name": "python3"
  },
  "language_info": {
   "codemirror_mode": {
    "name": "ipython",
    "version": 3
   },
   "file_extension": ".py",
   "mimetype": "text/x-python",
   "name": "python",
   "nbconvert_exporter": "python",
   "pygments_lexer": "ipython3",
   "version": "3.8.5"
  }
 },
 "nbformat": 4,
 "nbformat_minor": 1
}
